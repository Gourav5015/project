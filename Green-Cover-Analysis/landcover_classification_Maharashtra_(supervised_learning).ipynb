{
  "cells": [
    {
      "cell_type": "code",
      "execution_count": null,
      "metadata": {
        "colab": {
          "base_uri": "https://localhost:8080/",
          "height": 1000
        },
        "id": "SsBvKdnX1Yl_",
        "outputId": "fd2a963f-b84e-4a0e-9e0f-2ac7896eb4dd"
      },
      "outputs": [],
      "source": []
    },
    {
      "cell_type": "code",
      "execution_count": 10,
      "metadata": {
        "colab": {
          "base_uri": "https://localhost:8080/",
          "height": 176
        },
        "id": "-zIxMf9z1pHR",
        "outputId": "70b7e917-03b3-4a95-fd37-ad3188022b74"
      },
      "outputs": [],
      "source": [
        "import ee\n",
        "import geemap\n",
        "# Trigger the authentication flow.\n",
        "\n",
        "\n",
        "# Initialize the library.\n",
        "ee.Initialize()"
      ]
    },
    {
      "cell_type": "code",
      "execution_count": 11,
      "metadata": {
        "id": "NivFnVAb1v83"
      },
      "outputs": [],
      "source": [
        "Map = geemap.Map()\n",
        "\n",
        "admin = ee.FeatureCollection(\"FAO/GAUL_SIMPLIFIED_500m/2015/level1\");\n",
        "maharashtra = admin.filter(ee.Filter.eq('ADM1_NAME', 'West Bengal'))\n",
        "geometry = maharashtra.geometry()\n",
        "\n",
        "point = ee.Geometry.Point([80.3288, 23.5121])\n",
        "\n",
        "image = ee.ImageCollection('LANDSAT/LC08/C01/T1_SR') \\\n",
        "    .filterDate('2019-01-01', '2023-12-31') \\\n",
        "    .sort('CLOUD_COVER') \\\n",
        "    .min() \\\n",
        "    .select('B[1-7]') \\\n",
        "    .clip(geometry)\n",
        "\n",
        "\n",
        "vis_params = {\n",
        "    'min': 0,\n",
        "    'max': 3000,\n",
        "    'bands': ['B5', 'B4', 'B3']\n",
        "}\n",
        "\n",
        "Map.centerObject(point, 5)\n",
        "Map.addLayer(image, vis_params, \"Landsat-8\")\n",
        "\n",
        "#Map"
      ]
    },
    {
      "cell_type": "code",
      "execution_count": 12,
      "metadata": {
        "colab": {
          "base_uri": "https://localhost:8080/",
          "height": 621,
          "referenced_widgets": [
            "b71b3e972fd8420fa40ae2df417e671a",
            "3accbde19c6f4ee1b2cde9558240bfba",
            "e799dc4984d74e0685290ea16b0065ed",
            "f964e22885f14f4f8c7b951f9cb842aa",
            "53fdfa56c144426eb55495dc415eaa52",
            "519179f0435b4978b479b61cd3102618",
            "f2d70834f3d34eb393ab0fd86244b889",
            "d4369e52e65241f4adeabb7c1e9bcb97",
            "90c2b6c5cf554ca8814a81e19738587a",
            "f05c8f28406b466bb9a12a47b217b65c",
            "6fefe4fe612849d1b046a58a60b2cf41",
            "fed33dd49d964656b4c3b4b7562c0c4c",
            "b13965464b484ecc8990ae827d97c5c0",
            "7de7e6cc010b45f5b90ac59d0aecbf6b",
            "47c7ee7e43de43f2bdb25436e9d1e3a6",
            "34b5b693600247688fe36e46fe791cc9",
            "ca9f7ce93d024690b25b0c7e13278599",
            "cc5f71bf323b4601b25eba405d1185d5",
            "5f0052fe069d468ea34d1e5b90bb88cf",
            "4ef7d173b8cf459084de3f10d7cb5e86",
            "151aed478f1b4ce4bd2f81aba371e495",
            "f8a8e177c11d498595456c273fe2f9d5",
            "b1181cdde480407d9414f22a467493a1",
            "b80f84afabc24b66b9e074d960646ad1",
            "960eb34ebbbf446690f99a5f5bddd385",
            "fd767d3833244542b613b6304e83cdb8",
            "b1871703abe84ae1a114346dcc6b9a4f",
            "2867dc629a8146ad8a52ee97807dc813",
            "8bd3e6981dfa4533830a6a5ed26d43a4",
            "f7a466a7135448fd878c9f41860bac42",
            "cd1278a681584c0eb8e76580173acee4",
            "1b4d54c5c6064b0388f21d396e9f663e",
            "2f0bc79b333647f3ae4ec4914d34f5dd",
            "25d17b70569442869a5a90507ae37edc",
            "d2afdd67e42f43319bfb4cf12424694a"
          ]
        },
        "id": "DfZMbkTc10tj",
        "outputId": "b508b4c6-73e5-45c9-dd71-0cbfaa630c2a"
      },
      "outputs": [
        {
          "data": {
            "application/vnd.jupyter.widget-view+json": {
              "model_id": "327b615ac8f549ffbe2667ef4dfcb06d",
              "version_major": 2,
              "version_minor": 0
            },
            "text/plain": [
              "Map(center=[23.512099999999997, 80.3288], controls=(WidgetControl(options=['position', 'transparent_bg'], widg…"
            ]
          },
          "metadata": {},
          "output_type": "display_data"
        }
      ],
      "source": [
        "modis = ee.ImageCollection(\"MODIS/061/MCD12Q1\") \\\n",
        "              .filterDate('2019-01-01', '2023-01-01') \\\n",
        "              .select('LC_Type1') \\\n",
        "              .reduce(ee.Reducer.median())\n",
        "\n",
        "points = modis.sample(**{\n",
        "    'region': ee.Geometry.Rectangle([72.0000, 23.0000, 82.0000, 15.0000]),\n",
        "    'scale': 30,\n",
        "    'numPixels': 5000,\n",
        "    'seed': 0,\n",
        "    'geometries': True  # Set this to False to ignore geometries\n",
        "})\n",
        "\n",
        "Map.addLayer(points, {}, 'training', False)\n",
        "Map"
      ]
    },
    {
      "cell_type": "code",
      "execution_count": 13,
      "metadata": {
        "colab": {
          "base_uri": "https://localhost:8080/"
        },
        "id": "JARK8Myc4o1J",
        "outputId": "3b721968-c557-49c1-8d6a-9629c1d5383e"
      },
      "outputs": [
        {
          "name": "stdout",
          "output_type": "stream",
          "text": [
            "5000\n"
          ]
        }
      ],
      "source": [
        "print(points.size().getInfo())"
      ]
    },
    {
      "cell_type": "code",
      "execution_count": 14,
      "metadata": {
        "colab": {
          "base_uri": "https://localhost:8080/"
        },
        "id": "IuxCzCLL4q_I",
        "outputId": "e8c29a93-34c6-4dff-d854-f4b88ad5f5e7"
      },
      "outputs": [
        {
          "name": "stdout",
          "output_type": "stream",
          "text": [
            "{'type': 'Feature', 'geometry': {'type': 'Point', 'coordinates': [75.96063229451673, 21.19164441922813]}, 'id': '0', 'properties': {'LC_Type1_median': 12}}\n"
          ]
        }
      ],
      "source": [
        "print(points.first().getInfo())"
      ]
    },
    {
      "cell_type": "code",
      "execution_count": 15,
      "metadata": {
        "colab": {
          "base_uri": "https://localhost:8080/"
        },
        "id": "AGxNPIps4ujB",
        "outputId": "eb28ae79-b54a-4e53-a5fb-4c30d982fb03"
      },
      "outputs": [
        {
          "name": "stdout",
          "output_type": "stream",
          "text": [
            "None\n"
          ]
        }
      ],
      "source": [
        "# Use these bands for prediction.\n",
        "bands = ['B1', 'B2', 'B3', 'B4', 'B5', 'B6', 'B7']\n",
        "\n",
        "\n",
        "# This property of the table stores the land cover labels.\n",
        "label = 'LC_Type1_median'\n",
        "input = image.select(bands)\n",
        "\n",
        "# Overlay the points on the imagery to get training.\n",
        "training = input.sampleRegions(**{\n",
        "  'collection': points,\n",
        "  'properties': [label],\n",
        "  'scale': 30\n",
        "})\n",
        "\n",
        "# Train a CART classifier with default parameters.\n",
        "trained = ee.Classifier.smileCart().train(training, label, bands)\n",
        "\n",
        "print(training.first().getInfo())"
      ]
    },
    {
      "cell_type": "code",
      "execution_count": 16,
      "metadata": {
        "id": "DpVJXD_T4usM"
      },
      "outputs": [],
      "source": [
        "result = image.select(bands).classify(trained)\n",
        "\n",
        "# Display the clusters with random colors.\n",
        "# Map.addLayer(result.randomVisualizer(), {}, 'classfied')\n",
        "# Map"
      ]
    },
    {
      "cell_type": "code",
      "execution_count": 17,
      "metadata": {
        "id": "j6LcHfGZ5Zal"
      },
      "outputs": [],
      "source": [
        "map2 = geemap.Map()\n",
        "\n",
        "ee_class_table = \"\"\"\n",
        "\n",
        "Value\tColor\tDescription\n",
        "0\t1c0dff\tWater\n",
        "1\t05450a\tEvergreen needleleaf forest\n",
        "2\t086a10\tEvergreen broadleaf forest\n",
        "3\t54a708\tDeciduous needleleaf forest\n",
        "4\t78d203\tDeciduous broadleaf forest\n",
        "5\t009900\tMixed forest\n",
        "6\tc6b044\tClosed shrublands\n",
        "7\tdcd159\tOpen shrublands\n",
        "8\tdade48\tWoody savannas\n",
        "9\tfbff13\tSavannas\n",
        "10\tb6ff05\tGrasslands\n",
        "11\t27ff87\tPermanent wetlands\n",
        "12\tc24f44\tCroplands\n",
        "13\ta5a5a5\tUrban and built-up\n",
        "14\tff6d4c\tCropland/natural vegetation mosaic\n",
        "15\t69fff8\tSnow and ice\n",
        "16\tf9ffa4\tBarren or sparsely vegetated\n",
        "254\tffffff\tUnclassified\n",
        "\n",
        "\"\"\"\n",
        "#############################################################\n",
        "landcover = ee.ImageCollection(\"MODIS/061/MCD12Q1\") \\\n",
        "              .filterDate('2019-01-01', '2023-12-31') \\\n",
        "              .select('LC_Type1') \\\n",
        "              .reduce(ee.Reducer.mean()) \\\n",
        "              .clip(geometry)\n",
        "\n",
        "LandCoverVis = {\n",
        "  'min': 1.0,\n",
        "  'max': 17.0,\n",
        "  'palette': [\n",
        "    '05450a', '086a10', '54a708', '78d203', '009900', 'c6b044', 'dcd159',\n",
        "    'dade48', 'fbff13', 'b6ff05', '27ff87', 'c24f44', 'a5a5a5', 'ff6d4c',\n",
        "    '69fff8', 'f9ffa4', '1c0dff'\n",
        "  ],\n",
        "}\n",
        "\n",
        "Map.centerObject(point, 5)\n",
        "Map.addLayer(landcover, LandCoverVis, 'MODIS Land Cover')\n",
        "\n",
        "legend_dict = geemap.legend_from_ee(ee_class_table)\n",
        "#map2.add_legend(legend_title=\"MODIS Global Land Cover\", legend_dict=legend_dict)\n",
        "#map2"
      ]
    },
    {
      "cell_type": "code",
      "execution_count": 18,
      "metadata": {
        "id": "K5U8z1xi4-PR"
      },
      "outputs": [
        {
          "ename": "EEException",
          "evalue": "No valid training data were found.",
          "output_type": "error",
          "traceback": [
            "\u001b[1;31m---------------------------------------------------------------------------\u001b[0m",
            "\u001b[1;31mHttpError\u001b[0m                                 Traceback (most recent call last)",
            "\u001b[1;32mc:\\Users\\aggou\\AppData\\Local\\Programs\\Python\\Python39\\lib\\site-packages\\ee\\data.py\u001b[0m in \u001b[0;36m_execute_cloud_call\u001b[1;34m(call, num_retries)\u001b[0m\n\u001b[0;32m    401\u001b[0m   \u001b[1;32mtry\u001b[0m\u001b[1;33m:\u001b[0m\u001b[1;33m\u001b[0m\u001b[1;33m\u001b[0m\u001b[0m\n\u001b[1;32m--> 402\u001b[1;33m     \u001b[1;32mreturn\u001b[0m \u001b[0mcall\u001b[0m\u001b[1;33m.\u001b[0m\u001b[0mexecute\u001b[0m\u001b[1;33m(\u001b[0m\u001b[0mnum_retries\u001b[0m\u001b[1;33m=\u001b[0m\u001b[0mnum_retries\u001b[0m\u001b[1;33m)\u001b[0m\u001b[1;33m\u001b[0m\u001b[1;33m\u001b[0m\u001b[0m\n\u001b[0m\u001b[0;32m    403\u001b[0m   \u001b[1;32mexcept\u001b[0m \u001b[0mgoogleapiclient\u001b[0m\u001b[1;33m.\u001b[0m\u001b[0merrors\u001b[0m\u001b[1;33m.\u001b[0m\u001b[0mHttpError\u001b[0m \u001b[1;32mas\u001b[0m \u001b[0me\u001b[0m\u001b[1;33m:\u001b[0m\u001b[1;33m\u001b[0m\u001b[1;33m\u001b[0m\u001b[0m\n",
            "\u001b[1;32mc:\\Users\\aggou\\AppData\\Local\\Programs\\Python\\Python39\\lib\\site-packages\\googleapiclient\\_helpers.py\u001b[0m in \u001b[0;36mpositional_wrapper\u001b[1;34m(*args, **kwargs)\u001b[0m\n\u001b[0;32m    133\u001b[0m                     \u001b[0mlogger\u001b[0m\u001b[1;33m.\u001b[0m\u001b[0mwarning\u001b[0m\u001b[1;33m(\u001b[0m\u001b[0mmessage\u001b[0m\u001b[1;33m)\u001b[0m\u001b[1;33m\u001b[0m\u001b[1;33m\u001b[0m\u001b[0m\n\u001b[1;32m--> 134\u001b[1;33m             \u001b[1;32mreturn\u001b[0m \u001b[0mwrapped\u001b[0m\u001b[1;33m(\u001b[0m\u001b[1;33m*\u001b[0m\u001b[0margs\u001b[0m\u001b[1;33m,\u001b[0m \u001b[1;33m**\u001b[0m\u001b[0mkwargs\u001b[0m\u001b[1;33m)\u001b[0m\u001b[1;33m\u001b[0m\u001b[1;33m\u001b[0m\u001b[0m\n\u001b[0m\u001b[0;32m    135\u001b[0m \u001b[1;33m\u001b[0m\u001b[0m\n",
            "\u001b[1;32mc:\\Users\\aggou\\AppData\\Local\\Programs\\Python\\Python39\\lib\\site-packages\\googleapiclient\\http.py\u001b[0m in \u001b[0;36mexecute\u001b[1;34m(self, http, num_retries)\u001b[0m\n\u001b[0;32m    914\u001b[0m         \u001b[1;32mif\u001b[0m \u001b[0mresp\u001b[0m\u001b[1;33m.\u001b[0m\u001b[0mstatus\u001b[0m \u001b[1;33m>=\u001b[0m \u001b[1;36m300\u001b[0m\u001b[1;33m:\u001b[0m\u001b[1;33m\u001b[0m\u001b[1;33m\u001b[0m\u001b[0m\n\u001b[1;32m--> 915\u001b[1;33m             \u001b[1;32mraise\u001b[0m \u001b[0mHttpError\u001b[0m\u001b[1;33m(\u001b[0m\u001b[0mresp\u001b[0m\u001b[1;33m,\u001b[0m \u001b[0mcontent\u001b[0m\u001b[1;33m,\u001b[0m \u001b[0muri\u001b[0m\u001b[1;33m=\u001b[0m\u001b[0mself\u001b[0m\u001b[1;33m.\u001b[0m\u001b[0muri\u001b[0m\u001b[1;33m)\u001b[0m\u001b[1;33m\u001b[0m\u001b[1;33m\u001b[0m\u001b[0m\n\u001b[0m\u001b[0;32m    916\u001b[0m         \u001b[1;32mreturn\u001b[0m \u001b[0mself\u001b[0m\u001b[1;33m.\u001b[0m\u001b[0mpostproc\u001b[0m\u001b[1;33m(\u001b[0m\u001b[0mresp\u001b[0m\u001b[1;33m,\u001b[0m \u001b[0mcontent\u001b[0m\u001b[1;33m)\u001b[0m\u001b[1;33m\u001b[0m\u001b[1;33m\u001b[0m\u001b[0m\n",
            "\u001b[1;31mHttpError\u001b[0m: <HttpError 400 when requesting https://earthengine.googleapis.com/v1/projects/earthengine-legacy/maps?fields=name&alt=json returned \"No valid training data were found.\". Details: \"No valid training data were found.\">",
            "\nDuring handling of the above exception, another exception occurred:\n",
            "\u001b[1;31mEEException\u001b[0m                               Traceback (most recent call last)",
            "\u001b[1;32m~\\AppData\\Local\\Temp/ipykernel_9748/850169873.py\u001b[0m in \u001b[0;36m<module>\u001b[1;34m\u001b[0m\n\u001b[0;32m      1\u001b[0m \u001b[0mlandsatcover\u001b[0m \u001b[1;33m=\u001b[0m \u001b[0mresult\u001b[0m\u001b[1;33m.\u001b[0m\u001b[0mset\u001b[0m\u001b[1;33m(\u001b[0m\u001b[1;34m'classification_class_values'\u001b[0m\u001b[1;33m,\u001b[0m \u001b[1;33m[\u001b[0m\u001b[1;36m0\u001b[0m\u001b[1;33m,\u001b[0m \u001b[1;36m1\u001b[0m\u001b[1;33m,\u001b[0m \u001b[1;36m2\u001b[0m\u001b[1;33m,\u001b[0m \u001b[1;36m3\u001b[0m\u001b[1;33m,\u001b[0m \u001b[1;36m4\u001b[0m\u001b[1;33m,\u001b[0m \u001b[1;36m5\u001b[0m\u001b[1;33m,\u001b[0m \u001b[1;36m6\u001b[0m\u001b[1;33m,\u001b[0m \u001b[1;36m7\u001b[0m\u001b[1;33m,\u001b[0m \u001b[1;36m8\u001b[0m\u001b[1;33m,\u001b[0m \u001b[1;36m9\u001b[0m\u001b[1;33m,\u001b[0m \u001b[1;36m10\u001b[0m\u001b[1;33m,\u001b[0m \u001b[1;36m11\u001b[0m\u001b[1;33m,\u001b[0m \u001b[1;36m12\u001b[0m\u001b[1;33m,\u001b[0m \u001b[1;36m13\u001b[0m\u001b[1;33m,\u001b[0m \u001b[1;36m14\u001b[0m\u001b[1;33m,\u001b[0m \u001b[1;36m15\u001b[0m\u001b[1;33m,\u001b[0m \u001b[1;36m16\u001b[0m\u001b[1;33m]\u001b[0m\u001b[1;33m)\u001b[0m\u001b[1;33m\u001b[0m\u001b[1;33m\u001b[0m\u001b[0m\n\u001b[0;32m      2\u001b[0m \u001b[0mlandsatcover\u001b[0m \u001b[1;33m=\u001b[0m \u001b[0mlandsatcover\u001b[0m\u001b[1;33m.\u001b[0m\u001b[0mset\u001b[0m\u001b[1;33m(\u001b[0m\u001b[1;34m'classification_class_palette'\u001b[0m\u001b[1;33m,\u001b[0m \u001b[1;33m[\u001b[0m\u001b[1;34m'1c0dff'\u001b[0m\u001b[1;33m,\u001b[0m \u001b[1;34m'05450a'\u001b[0m\u001b[1;33m,\u001b[0m \u001b[1;34m'086a10'\u001b[0m\u001b[1;33m,\u001b[0m \u001b[1;34m'54a708'\u001b[0m\u001b[1;33m,\u001b[0m \u001b[1;34m'78d203'\u001b[0m\u001b[1;33m,\u001b[0m \u001b[1;34m'009900'\u001b[0m\u001b[1;33m,\u001b[0m \u001b[1;34m'c6b044'\u001b[0m\u001b[1;33m,\u001b[0m \u001b[1;34m'dcd159'\u001b[0m\u001b[1;33m,\u001b[0m \u001b[1;34m'dade48'\u001b[0m\u001b[1;33m,\u001b[0m \u001b[1;34m'fbff13'\u001b[0m\u001b[1;33m,\u001b[0m \u001b[1;34m'b6ff05'\u001b[0m\u001b[1;33m,\u001b[0m \u001b[1;34m'27ff87'\u001b[0m\u001b[1;33m,\u001b[0m \u001b[1;34m'c24f44'\u001b[0m\u001b[1;33m,\u001b[0m \u001b[1;34m'a5a5a5'\u001b[0m\u001b[1;33m,\u001b[0m \u001b[1;34m'ff6d4c'\u001b[0m\u001b[1;33m,\u001b[0m \u001b[1;34m'69fff8'\u001b[0m\u001b[1;33m,\u001b[0m \u001b[1;34m'f9ffa4'\u001b[0m\u001b[1;33m,\u001b[0m   \u001b[1;33m]\u001b[0m\u001b[1;33m)\u001b[0m\u001b[1;33m\u001b[0m\u001b[1;33m\u001b[0m\u001b[0m\n\u001b[1;32m----> 3\u001b[1;33m \u001b[0mMap\u001b[0m\u001b[1;33m.\u001b[0m\u001b[0maddLayer\u001b[0m\u001b[1;33m(\u001b[0m\u001b[0mlandsatcover\u001b[0m\u001b[1;33m,\u001b[0m \u001b[1;33m{\u001b[0m\u001b[1;33m}\u001b[0m\u001b[1;33m,\u001b[0m \u001b[1;34m'Land cover'\u001b[0m\u001b[1;33m)\u001b[0m\u001b[1;33m\u001b[0m\u001b[1;33m\u001b[0m\u001b[0m\n\u001b[0m",
            "\u001b[1;32mc:\\Users\\aggou\\AppData\\Local\\Programs\\Python\\Python39\\lib\\site-packages\\geemap\\geemap.py\u001b[0m in \u001b[0;36madd_ee_layer\u001b[1;34m(self, ee_object, vis_params, name, shown, opacity)\u001b[0m\n\u001b[0;32m   1392\u001b[0m                 \u001b[1;32mraise\u001b[0m \u001b[0mException\u001b[0m\u001b[1;33m(\u001b[0m\u001b[0me\u001b[0m\u001b[1;33m)\u001b[0m\u001b[1;33m\u001b[0m\u001b[1;33m\u001b[0m\u001b[0m\n\u001b[0;32m   1393\u001b[0m \u001b[1;33m\u001b[0m\u001b[0m\n\u001b[1;32m-> 1394\u001b[1;33m         \u001b[0mmap_id_dict\u001b[0m \u001b[1;33m=\u001b[0m \u001b[0mee\u001b[0m\u001b[1;33m.\u001b[0m\u001b[0mImage\u001b[0m\u001b[1;33m(\u001b[0m\u001b[0mimage\u001b[0m\u001b[1;33m)\u001b[0m\u001b[1;33m.\u001b[0m\u001b[0mgetMapId\u001b[0m\u001b[1;33m(\u001b[0m\u001b[0mvis_params\u001b[0m\u001b[1;33m)\u001b[0m\u001b[1;33m\u001b[0m\u001b[1;33m\u001b[0m\u001b[0m\n\u001b[0m\u001b[0;32m   1395\u001b[0m         tile_layer = ipyleaflet.TileLayer(\n\u001b[0;32m   1396\u001b[0m             \u001b[0murl\u001b[0m\u001b[1;33m=\u001b[0m\u001b[0mmap_id_dict\u001b[0m\u001b[1;33m[\u001b[0m\u001b[1;34m\"tile_fetcher\"\u001b[0m\u001b[1;33m]\u001b[0m\u001b[1;33m.\u001b[0m\u001b[0murl_format\u001b[0m\u001b[1;33m,\u001b[0m\u001b[1;33m\u001b[0m\u001b[1;33m\u001b[0m\u001b[0m\n",
            "\u001b[1;32mc:\\Users\\aggou\\AppData\\Local\\Programs\\Python\\Python39\\lib\\site-packages\\ee\\image.py\u001b[0m in \u001b[0;36mgetMapId\u001b[1;34m(self, vis_params)\u001b[0m\n\u001b[0;32m    128\u001b[0m     \u001b[0mvis_image\u001b[0m\u001b[1;33m,\u001b[0m \u001b[0mrequest\u001b[0m \u001b[1;33m=\u001b[0m \u001b[0mself\u001b[0m\u001b[1;33m.\u001b[0m\u001b[0m_apply_visualization\u001b[0m\u001b[1;33m(\u001b[0m\u001b[0mvis_params\u001b[0m\u001b[1;33m)\u001b[0m\u001b[1;33m\u001b[0m\u001b[1;33m\u001b[0m\u001b[0m\n\u001b[0;32m    129\u001b[0m     \u001b[0mrequest\u001b[0m\u001b[1;33m[\u001b[0m\u001b[1;34m'image'\u001b[0m\u001b[1;33m]\u001b[0m \u001b[1;33m=\u001b[0m \u001b[0mvis_image\u001b[0m\u001b[1;33m\u001b[0m\u001b[1;33m\u001b[0m\u001b[0m\n\u001b[1;32m--> 130\u001b[1;33m     \u001b[0mresponse\u001b[0m \u001b[1;33m=\u001b[0m \u001b[0mdata\u001b[0m\u001b[1;33m.\u001b[0m\u001b[0mgetMapId\u001b[0m\u001b[1;33m(\u001b[0m\u001b[0mrequest\u001b[0m\u001b[1;33m)\u001b[0m\u001b[1;33m\u001b[0m\u001b[1;33m\u001b[0m\u001b[0m\n\u001b[0m\u001b[0;32m    131\u001b[0m     \u001b[0mresponse\u001b[0m\u001b[1;33m[\u001b[0m\u001b[1;34m'image'\u001b[0m\u001b[1;33m]\u001b[0m \u001b[1;33m=\u001b[0m \u001b[0mself\u001b[0m\u001b[1;33m\u001b[0m\u001b[1;33m\u001b[0m\u001b[0m\n\u001b[0;32m    132\u001b[0m     \u001b[1;32mreturn\u001b[0m \u001b[0mresponse\u001b[0m\u001b[1;33m\u001b[0m\u001b[1;33m\u001b[0m\u001b[0m\n",
            "\u001b[1;32mc:\\Users\\aggou\\AppData\\Local\\Programs\\Python\\Python39\\lib\\site-packages\\ee\\data.py\u001b[0m in \u001b[0;36mgetMapId\u001b[1;34m(params)\u001b[0m\n\u001b[0;32m    728\u001b[0m   }\n\u001b[0;32m    729\u001b[0m   \u001b[0m_maybe_populate_workload_tag\u001b[0m\u001b[1;33m(\u001b[0m\u001b[0mqueryParams\u001b[0m\u001b[1;33m)\u001b[0m\u001b[1;33m\u001b[0m\u001b[1;33m\u001b[0m\u001b[0m\n\u001b[1;32m--> 730\u001b[1;33m   result = _execute_cloud_call(\n\u001b[0m\u001b[0;32m    731\u001b[0m       \u001b[0m_get_cloud_projects\u001b[0m\u001b[1;33m(\u001b[0m\u001b[1;33m)\u001b[0m\u001b[1;33m\u001b[0m\u001b[1;33m\u001b[0m\u001b[0m\n\u001b[0;32m    732\u001b[0m       \u001b[1;33m.\u001b[0m\u001b[0mmaps\u001b[0m\u001b[1;33m(\u001b[0m\u001b[1;33m)\u001b[0m\u001b[1;33m\u001b[0m\u001b[1;33m\u001b[0m\u001b[0m\n",
            "\u001b[1;32mc:\\Users\\aggou\\AppData\\Local\\Programs\\Python\\Python39\\lib\\site-packages\\ee\\data.py\u001b[0m in \u001b[0;36m_execute_cloud_call\u001b[1;34m(call, num_retries)\u001b[0m\n\u001b[0;32m    402\u001b[0m     \u001b[1;32mreturn\u001b[0m \u001b[0mcall\u001b[0m\u001b[1;33m.\u001b[0m\u001b[0mexecute\u001b[0m\u001b[1;33m(\u001b[0m\u001b[0mnum_retries\u001b[0m\u001b[1;33m=\u001b[0m\u001b[0mnum_retries\u001b[0m\u001b[1;33m)\u001b[0m\u001b[1;33m\u001b[0m\u001b[1;33m\u001b[0m\u001b[0m\n\u001b[0;32m    403\u001b[0m   \u001b[1;32mexcept\u001b[0m \u001b[0mgoogleapiclient\u001b[0m\u001b[1;33m.\u001b[0m\u001b[0merrors\u001b[0m\u001b[1;33m.\u001b[0m\u001b[0mHttpError\u001b[0m \u001b[1;32mas\u001b[0m \u001b[0me\u001b[0m\u001b[1;33m:\u001b[0m\u001b[1;33m\u001b[0m\u001b[1;33m\u001b[0m\u001b[0m\n\u001b[1;32m--> 404\u001b[1;33m     \u001b[1;32mraise\u001b[0m \u001b[0m_translate_cloud_exception\u001b[0m\u001b[1;33m(\u001b[0m\u001b[0me\u001b[0m\u001b[1;33m)\u001b[0m  \u001b[1;31m# pylint: disable=raise-missing-from\u001b[0m\u001b[1;33m\u001b[0m\u001b[1;33m\u001b[0m\u001b[0m\n\u001b[0m\u001b[0;32m    405\u001b[0m \u001b[1;33m\u001b[0m\u001b[0m\n\u001b[0;32m    406\u001b[0m \u001b[1;33m\u001b[0m\u001b[0m\n",
            "\u001b[1;31mEEException\u001b[0m: No valid training data were found."
          ]
        }
      ],
      "source": [
        "landsatcover = result.set('classification_class_values', [0, 1, 2, 3, 4, 5, 6, 7, 8, 9, 10, 11, 12, 13, 14, 15, 16])\n",
        "landsatcover = landsatcover.set('classification_class_palette', ['1c0dff', '05450a', '086a10', '54a708', '78d203', '009900', 'c6b044', 'dcd159', 'dade48', 'fbff13', 'b6ff05', '27ff87', 'c24f44', 'a5a5a5', 'ff6d4c', '69fff8', 'f9ffa4',   ])\n",
        "Map.addLayer(landsatcover, {}, 'Land cover')"
      ]
    },
    {
      "cell_type": "code",
      "execution_count": null,
      "metadata": {
        "colab": {
          "base_uri": "https://localhost:8080/",
          "height": 621,
          "referenced_widgets": [
            "b71b3e972fd8420fa40ae2df417e671a",
            "3accbde19c6f4ee1b2cde9558240bfba",
            "e799dc4984d74e0685290ea16b0065ed",
            "f964e22885f14f4f8c7b951f9cb842aa",
            "53fdfa56c144426eb55495dc415eaa52",
            "519179f0435b4978b479b61cd3102618",
            "f2d70834f3d34eb393ab0fd86244b889",
            "d4369e52e65241f4adeabb7c1e9bcb97",
            "90c2b6c5cf554ca8814a81e19738587a",
            "f05c8f28406b466bb9a12a47b217b65c",
            "6fefe4fe612849d1b046a58a60b2cf41",
            "f7a466a7135448fd878c9f41860bac42",
            "fed33dd49d964656b4c3b4b7562c0c4c",
            "b13965464b484ecc8990ae827d97c5c0",
            "7de7e6cc010b45f5b90ac59d0aecbf6b",
            "47c7ee7e43de43f2bdb25436e9d1e3a6",
            "34b5b693600247688fe36e46fe791cc9",
            "2867dc629a8146ad8a52ee97807dc813",
            "8bd3e6981dfa4533830a6a5ed26d43a4",
            "ca9f7ce93d024690b25b0c7e13278599",
            "cc5f71bf323b4601b25eba405d1185d5",
            "5f0052fe069d468ea34d1e5b90bb88cf",
            "cd1278a681584c0eb8e76580173acee4",
            "4ef7d173b8cf459084de3f10d7cb5e86",
            "151aed478f1b4ce4bd2f81aba371e495",
            "f8a8e177c11d498595456c273fe2f9d5",
            "b1181cdde480407d9414f22a467493a1",
            "1b4d54c5c6064b0388f21d396e9f663e",
            "b80f84afabc24b66b9e074d960646ad1",
            "960eb34ebbbf446690f99a5f5bddd385",
            "fd767d3833244542b613b6304e83cdb8",
            "b1871703abe84ae1a114346dcc6b9a4f",
            "2f0bc79b333647f3ae4ec4914d34f5dd",
            "25d17b70569442869a5a90507ae37edc",
            "d2afdd67e42f43319bfb4cf12424694a"
          ]
        },
        "id": "U6__EKV5o5vC",
        "outputId": "42c8b3a1-1c25-4e20-b9ca-b8a5a4d35c92"
      },
      "outputs": [],
      "source": [
        "ee_class_table = \"\"\"\n",
        "\n",
        "Value\tColor\tDescription\n",
        "0\t1c0dff\tWater\n",
        "1\t05450a\tEvergreen needleleaf forest\n",
        "2\t086a10\tEvergreen broadleaf forest\n",
        "3\t54a708\tDeciduous needleleaf forest\n",
        "4\t78d203\tDeciduous broadleaf forest\n",
        "5\t009900\tMixed forest\n",
        "6\tc6b044\tClosed shrublands\n",
        "7\tdcd159\tOpen shrublands\n",
        "8\tdade48\tWoody savannas\n",
        "9\tfbff13\tSavannas\n",
        "10\tb6ff05\tGrasslands\n",
        "11\t27ff87\tPermanent wetlands\n",
        "12\tc24f44\tCroplands\n",
        "13\ta5a5a5\tUrban and built-up\n",
        "14\tff6d4c\tCropland/natural vegetation mosaic\n",
        "15\t69fff8\tSnow and ice\n",
        "16\tf9ffa4\tBarren or sparsely vegetated\n",
        "254\tffffff\tUnclassified\n",
        "\n",
        "\"\"\"\n",
        "\n",
        "legend_dict = geemap.legend_from_ee(ee_class_table)\n",
        "Map.add_legend(legend_title=\"Land Cover Legend\", legend_dict=legend_dict)\n",
        "\n",
        "Map"
      ]
    }
  ],
  "metadata": {
    "colab": {
      "name": "landcover_classification.ipynb",
      "provenance": []
    },
    "kernelspec": {
      "display_name": "Python 3",
      "name": "python3"
    },
    "language_info": {
      "codemirror_mode": {
        "name": "ipython",
        "version": 3
      },
      "file_extension": ".py",
      "mimetype": "text/x-python",
      "name": "python",
      "nbconvert_exporter": "python",
      "pygments_lexer": "ipython3",
      "version": "3.9.8"
    },
    "widgets": {
      "application/vnd.jupyter.widget-state+json": {
        "151aed478f1b4ce4bd2f81aba371e495": {
          "model_module": "@jupyter-widgets/controls",
          "model_module_version": "1.5.0",
          "model_name": "ToggleButtonModel",
          "state": {
            "_dom_classes": [],
            "_model_module": "@jupyter-widgets/controls",
            "_model_module_version": "1.5.0",
            "_model_name": "ToggleButtonModel",
            "_view_count": null,
            "_view_module": "@jupyter-widgets/controls",
            "_view_module_version": "1.5.0",
            "_view_name": "ToggleButtonView",
            "button_style": "",
            "description": "",
            "description_tooltip": null,
            "disabled": false,
            "icon": "globe",
            "layout": "IPY_MODEL_960eb34ebbbf446690f99a5f5bddd385",
            "style": "IPY_MODEL_b80f84afabc24b66b9e074d960646ad1",
            "tooltip": "Search location/data",
            "value": false
          }
        },
        "1b4d54c5c6064b0388f21d396e9f663e": {
          "model_module": "@jupyter-widgets/base",
          "model_module_version": "1.2.0",
          "model_name": "LayoutModel",
          "state": {
            "_model_module": "@jupyter-widgets/base",
            "_model_module_version": "1.2.0",
            "_model_name": "LayoutModel",
            "_view_count": null,
            "_view_module": "@jupyter-widgets/base",
            "_view_module_version": "1.2.0",
            "_view_name": "LayoutView",
            "align_content": null,
            "align_items": null,
            "align_self": null,
            "border": null,
            "bottom": null,
            "display": null,
            "flex": null,
            "flex_flow": null,
            "grid_area": null,
            "grid_auto_columns": null,
            "grid_auto_flow": null,
            "grid_auto_rows": null,
            "grid_column": null,
            "grid_gap": null,
            "grid_row": null,
            "grid_template_areas": null,
            "grid_template_columns": null,
            "grid_template_rows": null,
            "height": null,
            "justify_content": null,
            "justify_items": null,
            "left": null,
            "margin": null,
            "max_height": "400px",
            "max_width": "300px",
            "min_height": null,
            "min_width": null,
            "object_fit": null,
            "object_position": null,
            "order": null,
            "overflow": "scroll",
            "overflow_x": null,
            "overflow_y": null,
            "padding": null,
            "right": null,
            "top": null,
            "visibility": null,
            "width": null
          }
        },
        "25d17b70569442869a5a90507ae37edc": {
          "model_module": "@jupyter-widgets/controls",
          "model_module_version": "1.5.0",
          "model_name": "DescriptionStyleModel",
          "state": {
            "_model_module": "@jupyter-widgets/controls",
            "_model_module_version": "1.5.0",
            "_model_name": "DescriptionStyleModel",
            "_view_count": null,
            "_view_module": "@jupyter-widgets/base",
            "_view_module_version": "1.2.0",
            "_view_name": "StyleView",
            "description_width": ""
          }
        },
        "2867dc629a8146ad8a52ee97807dc813": {
          "model_module": "jupyter-leaflet",
          "model_module_version": "^0.14.0",
          "model_name": "LeafletTileLayerModel",
          "state": {
            "_model_module": "jupyter-leaflet",
            "_model_module_version": "^0.14.0",
            "_model_name": "LeafletTileLayerModel",
            "_view_count": null,
            "_view_module": "jupyter-leaflet",
            "_view_module_version": "^0.14.0",
            "_view_name": "LeafletTileLayerView",
            "attribution": "Google Earth Engine",
            "base": false,
            "bottom": true,
            "detect_retina": false,
            "loading": false,
            "max_native_zoom": 18,
            "max_zoom": 18,
            "min_native_zoom": 0,
            "min_zoom": 0,
            "name": "MODIS Land Cover",
            "no_wrap": false,
            "opacity": 1,
            "options": [
              "attribution",
              "detect_retina",
              "max_native_zoom",
              "max_zoom",
              "min_native_zoom",
              "min_zoom",
              "no_wrap",
              "tile_size",
              "tms"
            ],
            "popup": null,
            "popup_max_height": null,
            "popup_max_width": 300,
            "popup_min_width": 50,
            "show_loading": false,
            "tile_size": 256,
            "tms": false,
            "url": "https://earthengine.googleapis.com/v1alpha/projects/earthengine-legacy/maps/e39055c52cbb8583df5a8f1546138b0b-a4a8539122a5d529ea0a4382b4c449ec/tiles/{z}/{x}/{y}",
            "visible": true
          }
        },
        "2f0bc79b333647f3ae4ec4914d34f5dd": {
          "model_module": "@jupyter-widgets/controls",
          "model_module_version": "1.5.0",
          "model_name": "HTMLModel",
          "state": {
            "_dom_classes": [],
            "_model_module": "@jupyter-widgets/controls",
            "_model_module_version": "1.5.0",
            "_model_name": "HTMLModel",
            "_view_count": null,
            "_view_module": "@jupyter-widgets/controls",
            "_view_module_version": "1.5.0",
            "_view_name": "HTMLView",
            "description": "",
            "description_tooltip": null,
            "layout": "IPY_MODEL_d2afdd67e42f43319bfb4cf12424694a",
            "placeholder": "​",
            "style": "IPY_MODEL_25d17b70569442869a5a90507ae37edc",
            "value": "<html>\n<body>\n  <div class='my-legend'>\n  <div class='legend-title'>Land Cover Legend</div>\n  <div class='legend-scale'>\n    <ul class='legend-labels'>\n      <li><span style='background:#1c0dff;'></span>0 Water</li>\n      <li><span style='background:#05450a;'></span>1 Evergreen needleleaf forest</li>\n      <li><span style='background:#086a10;'></span>2 Evergreen broadleaf forest</li>\n      <li><span style='background:#54a708;'></span>3 Deciduous needleleaf forest</li>\n      <li><span style='background:#78d203;'></span>4 Deciduous broadleaf forest</li>\n      <li><span style='background:#009900;'></span>5 Mixed forest</li>\n      <li><span style='background:#c6b044;'></span>6 Closed shrublands</li>\n      <li><span style='background:#dcd159;'></span>7 Open shrublands</li>\n      <li><span style='background:#dade48;'></span>8 Woody savannas</li>\n      <li><span style='background:#fbff13;'></span>9 Savannas</li>\n      <li><span style='background:#b6ff05;'></span>10 Grasslands</li>\n      <li><span style='background:#27ff87;'></span>11 Permanent wetlands</li>\n      <li><span style='background:#c24f44;'></span>12 Croplands</li>\n      <li><span style='background:#a5a5a5;'></span>13 Urban and built-up</li>\n      <li><span style='background:#ff6d4c;'></span>14 Cropland/natural vegetation mosaic</li>\n      <li><span style='background:#69fff8;'></span>15 Snow and ice</li>\n      <li><span style='background:#f9ffa4;'></span>16 Barren or sparsely vegetated</li>\n      <li><span style='background:#ffffff;'></span>254 Unclassified</li>\n    </ul>\n  </div>\n  </div>\n\n  <style type='text/css'>\n    .my-legend .legend-title {\n      text-align: left;\n      margin-bottom: 2px;\n      margin-left: 2px;\n      font-weight: bold;\n      font-size: 90%;\n      }\n    .my-legend .legend-scale ul {\n      margin: 0;\n      margin-bottom: 5px;\n      padding: 0;\n      float: left;\n      list-style: none;\n      }\n    .my-legend .legend-scale ul li {\n      font-size: 80%;\n      list-style: none;\n      margin-left: 1px;\n      line-height: 18px;\n      margin-bottom: 2px;\n      }\n    .my-legend ul.legend-labels li span {\n      display: block;\n      float: left;\n      height: 16px;\n      width: 30px;\n      margin-right: 5px;\n      margin-left: 2px;\n      border: 1px solid #999;\n      }\n    .my-legend .legend-source {\n      font-size: 70%;\n      color: #999;\n      clear: both;\n      }\n    .my-legend a {\n      color: #777;\n      }\n  </style>\n</body>\n</html>\n"
          }
        },
        "34b5b693600247688fe36e46fe791cc9": {
          "model_module": "jupyter-leaflet",
          "model_module_version": "^0.14.0",
          "model_name": "LeafletTileLayerModel",
          "state": {
            "_model_module": "jupyter-leaflet",
            "_model_module_version": "^0.14.0",
            "_model_name": "LeafletTileLayerModel",
            "_view_count": null,
            "_view_module": "jupyter-leaflet",
            "_view_module_version": "^0.14.0",
            "_view_name": "LeafletTileLayerView",
            "attribution": "Google Earth Engine",
            "base": false,
            "bottom": true,
            "detect_retina": false,
            "loading": false,
            "max_native_zoom": 18,
            "max_zoom": 18,
            "min_native_zoom": 0,
            "min_zoom": 0,
            "name": "training",
            "no_wrap": false,
            "opacity": 1,
            "options": [
              "attribution",
              "detect_retina",
              "max_native_zoom",
              "max_zoom",
              "min_native_zoom",
              "min_zoom",
              "no_wrap",
              "tile_size",
              "tms"
            ],
            "popup": null,
            "popup_max_height": null,
            "popup_max_width": 300,
            "popup_min_width": 50,
            "show_loading": false,
            "tile_size": 256,
            "tms": false,
            "url": "https://earthengine.googleapis.com/v1alpha/projects/earthengine-legacy/maps/b6ac8d8d7624b23cd196db0885d9c1f6-9af7e4011eda03fbced1cf8c1e56c502/tiles/{z}/{x}/{y}",
            "visible": false
          }
        },
        "3accbde19c6f4ee1b2cde9558240bfba": {
          "model_module": "jupyter-leaflet",
          "model_module_version": "^0.14.0",
          "model_name": "LeafletMapStyleModel",
          "state": {
            "_model_module": "jupyter-leaflet",
            "_model_module_version": "^0.14.0",
            "_model_name": "LeafletMapStyleModel",
            "_view_count": null,
            "_view_module": "@jupyter-widgets/base",
            "_view_module_version": "1.2.0",
            "_view_name": "StyleView",
            "cursor": "grab"
          }
        },
        "47c7ee7e43de43f2bdb25436e9d1e3a6": {
          "model_module": "jupyter-leaflet",
          "model_module_version": "^0.14.0",
          "model_name": "LeafletTileLayerModel",
          "state": {
            "_model_module": "jupyter-leaflet",
            "_model_module_version": "^0.14.0",
            "_model_name": "LeafletTileLayerModel",
            "_view_count": null,
            "_view_module": "jupyter-leaflet",
            "_view_module_version": "^0.14.0",
            "_view_name": "LeafletTileLayerView",
            "attribution": "Google Earth Engine",
            "base": false,
            "bottom": true,
            "detect_retina": false,
            "loading": false,
            "max_native_zoom": 18,
            "max_zoom": 18,
            "min_native_zoom": 0,
            "min_zoom": 0,
            "name": "Landsat-8",
            "no_wrap": false,
            "opacity": 1,
            "options": [
              "attribution",
              "detect_retina",
              "max_native_zoom",
              "max_zoom",
              "min_native_zoom",
              "min_zoom",
              "no_wrap",
              "tile_size",
              "tms"
            ],
            "popup": null,
            "popup_max_height": null,
            "popup_max_width": 300,
            "popup_min_width": 50,
            "show_loading": false,
            "tile_size": 256,
            "tms": false,
            "url": "https://earthengine.googleapis.com/v1alpha/projects/earthengine-legacy/maps/20124c30cb1be601d7b4efd33866c19a-f3542ab27a29ecd1af0929a44ba73add/tiles/{z}/{x}/{y}",
            "visible": true
          }
        },
        "4ef7d173b8cf459084de3f10d7cb5e86": {
          "model_module": "@jupyter-widgets/base",
          "model_module_version": "1.2.0",
          "model_name": "LayoutModel",
          "state": {
            "_model_module": "@jupyter-widgets/base",
            "_model_module_version": "1.2.0",
            "_model_name": "LayoutModel",
            "_view_count": null,
            "_view_module": "@jupyter-widgets/base",
            "_view_module_version": "1.2.0",
            "_view_name": "LayoutView",
            "align_content": null,
            "align_items": null,
            "align_self": null,
            "border": null,
            "bottom": null,
            "display": null,
            "flex": null,
            "flex_flow": null,
            "grid_area": null,
            "grid_auto_columns": null,
            "grid_auto_flow": null,
            "grid_auto_rows": null,
            "grid_column": null,
            "grid_gap": null,
            "grid_row": null,
            "grid_template_areas": null,
            "grid_template_columns": null,
            "grid_template_rows": null,
            "height": null,
            "justify_content": null,
            "justify_items": null,
            "left": null,
            "margin": null,
            "max_height": null,
            "max_width": null,
            "min_height": null,
            "min_width": null,
            "object_fit": null,
            "object_position": null,
            "order": null,
            "overflow": null,
            "overflow_x": null,
            "overflow_y": null,
            "padding": null,
            "right": null,
            "top": null,
            "visibility": null,
            "width": null
          }
        },
        "519179f0435b4978b479b61cd3102618": {
          "model_module": "jupyter-leaflet",
          "model_module_version": "^0.14.0",
          "model_name": "LeafletScaleControlModel",
          "state": {
            "_model_module": "jupyter-leaflet",
            "_model_module_version": "^0.14.0",
            "_model_name": "LeafletScaleControlModel",
            "_view_count": null,
            "_view_module": "jupyter-leaflet",
            "_view_module_version": "^0.14.0",
            "_view_name": "LeafletScaleControlView",
            "imperial": true,
            "max_width": 100,
            "metric": true,
            "options": [
              "imperial",
              "max_width",
              "metric",
              "position",
              "update_when_idle"
            ],
            "position": "bottomleft",
            "update_when_idle": false
          }
        },
        "53fdfa56c144426eb55495dc415eaa52": {
          "model_module": "jupyter-leaflet",
          "model_module_version": "^0.14.0",
          "model_name": "LeafletZoomControlModel",
          "state": {
            "_model_module": "jupyter-leaflet",
            "_model_module_version": "^0.14.0",
            "_model_name": "LeafletZoomControlModel",
            "_view_count": null,
            "_view_module": "jupyter-leaflet",
            "_view_module_version": "^0.14.0",
            "_view_name": "LeafletZoomControlView",
            "options": [
              "position",
              "zoom_in_text",
              "zoom_in_title",
              "zoom_out_text",
              "zoom_out_title"
            ],
            "position": "topleft",
            "zoom_in_text": "+",
            "zoom_in_title": "Zoom in",
            "zoom_out_text": "-",
            "zoom_out_title": "Zoom out"
          }
        },
        "5f0052fe069d468ea34d1e5b90bb88cf": {
          "model_module": "@jupyter-widgets/controls",
          "model_module_version": "1.5.0",
          "model_name": "VBoxModel",
          "state": {
            "_dom_classes": [],
            "_model_module": "@jupyter-widgets/controls",
            "_model_module_version": "1.5.0",
            "_model_name": "VBoxModel",
            "_view_count": null,
            "_view_module": "@jupyter-widgets/controls",
            "_view_module_version": "1.5.0",
            "_view_name": "VBoxView",
            "box_style": "",
            "children": [
              "IPY_MODEL_b1181cdde480407d9414f22a467493a1"
            ],
            "layout": "IPY_MODEL_f8a8e177c11d498595456c273fe2f9d5"
          }
        },
        "6fefe4fe612849d1b046a58a60b2cf41": {
          "model_module": "jupyter-leaflet",
          "model_module_version": "^0.14.0",
          "model_name": "LeafletWidgetControlModel",
          "state": {
            "_model_module": "jupyter-leaflet",
            "_model_module_version": "^0.14.0",
            "_model_name": "LeafletWidgetControlModel",
            "_view_count": null,
            "_view_module": "jupyter-leaflet",
            "_view_module_version": "^0.14.0",
            "_view_name": "LeafletWidgetControlView",
            "max_height": null,
            "max_width": null,
            "min_height": null,
            "min_width": null,
            "options": [
              "position",
              "transparent_bg"
            ],
            "position": "topright",
            "transparent_bg": false,
            "widget": "IPY_MODEL_5f0052fe069d468ea34d1e5b90bb88cf"
          }
        },
        "7de7e6cc010b45f5b90ac59d0aecbf6b": {
          "model_module": "jupyter-leaflet",
          "model_module_version": "^0.14.0",
          "model_name": "LeafletTileLayerModel",
          "state": {
            "_model_module": "jupyter-leaflet",
            "_model_module_version": "^0.14.0",
            "_model_name": "LeafletTileLayerModel",
            "_view_count": null,
            "_view_module": "jupyter-leaflet",
            "_view_module_version": "^0.14.0",
            "_view_name": "LeafletTileLayerView",
            "attribution": "Google",
            "base": false,
            "bottom": true,
            "detect_retina": false,
            "loading": false,
            "max_native_zoom": 18,
            "max_zoom": 18,
            "min_native_zoom": 0,
            "min_zoom": 0,
            "name": "Google Maps",
            "no_wrap": false,
            "opacity": 1,
            "options": [
              "attribution",
              "detect_retina",
              "max_native_zoom",
              "max_zoom",
              "min_native_zoom",
              "min_zoom",
              "no_wrap",
              "tile_size",
              "tms"
            ],
            "popup": null,
            "popup_max_height": null,
            "popup_max_width": 300,
            "popup_min_width": 50,
            "show_loading": false,
            "tile_size": 256,
            "tms": false,
            "url": "https://mt1.google.com/vt/lyrs=m&x={x}&y={y}&z={z}",
            "visible": true
          }
        },
        "8bd3e6981dfa4533830a6a5ed26d43a4": {
          "model_module": "jupyter-leaflet",
          "model_module_version": "^0.14.0",
          "model_name": "LeafletTileLayerModel",
          "state": {
            "_model_module": "jupyter-leaflet",
            "_model_module_version": "^0.14.0",
            "_model_name": "LeafletTileLayerModel",
            "_view_count": null,
            "_view_module": "jupyter-leaflet",
            "_view_module_version": "^0.14.0",
            "_view_name": "LeafletTileLayerView",
            "attribution": "Google Earth Engine",
            "base": false,
            "bottom": true,
            "detect_retina": false,
            "loading": false,
            "max_native_zoom": 18,
            "max_zoom": 18,
            "min_native_zoom": 0,
            "min_zoom": 0,
            "name": "Land cover",
            "no_wrap": false,
            "opacity": 1,
            "options": [
              "attribution",
              "detect_retina",
              "max_native_zoom",
              "max_zoom",
              "min_native_zoom",
              "min_zoom",
              "no_wrap",
              "tile_size",
              "tms"
            ],
            "popup": null,
            "popup_max_height": null,
            "popup_max_width": 300,
            "popup_min_width": 50,
            "show_loading": false,
            "tile_size": 256,
            "tms": false,
            "url": "https://earthengine.googleapis.com/v1alpha/projects/earthengine-legacy/maps/539c2010299668a42b8da6447ceab988-99af94eb54599d0d9a1a0f55c5e5a209/tiles/{z}/{x}/{y}",
            "visible": true
          }
        },
        "90c2b6c5cf554ca8814a81e19738587a": {
          "model_module": "jupyter-leaflet",
          "model_module_version": "^0.14.0",
          "model_name": "LeafletAttributionControlModel",
          "state": {
            "_model_module": "jupyter-leaflet",
            "_model_module_version": "^0.14.0",
            "_model_name": "LeafletAttributionControlModel",
            "_view_count": null,
            "_view_module": "jupyter-leaflet",
            "_view_module_version": "^0.14.0",
            "_view_name": "LeafletAttributionControlView",
            "options": [
              "position",
              "prefix"
            ],
            "position": "bottomright",
            "prefix": "ipyleaflet"
          }
        },
        "960eb34ebbbf446690f99a5f5bddd385": {
          "model_module": "@jupyter-widgets/base",
          "model_module_version": "1.2.0",
          "model_name": "LayoutModel",
          "state": {
            "_model_module": "@jupyter-widgets/base",
            "_model_module_version": "1.2.0",
            "_model_name": "LayoutModel",
            "_view_count": null,
            "_view_module": "@jupyter-widgets/base",
            "_view_module_version": "1.2.0",
            "_view_name": "LayoutView",
            "align_content": null,
            "align_items": null,
            "align_self": null,
            "border": null,
            "bottom": null,
            "display": null,
            "flex": null,
            "flex_flow": null,
            "grid_area": null,
            "grid_auto_columns": null,
            "grid_auto_flow": null,
            "grid_auto_rows": null,
            "grid_column": null,
            "grid_gap": null,
            "grid_row": null,
            "grid_template_areas": null,
            "grid_template_columns": null,
            "grid_template_rows": null,
            "height": "28px",
            "justify_content": null,
            "justify_items": null,
            "left": null,
            "margin": null,
            "max_height": null,
            "max_width": null,
            "min_height": null,
            "min_width": null,
            "object_fit": null,
            "object_position": null,
            "order": null,
            "overflow": null,
            "overflow_x": null,
            "overflow_y": null,
            "padding": "0px 0px 0px 4px",
            "right": null,
            "top": null,
            "visibility": null,
            "width": "28px"
          }
        },
        "b1181cdde480407d9414f22a467493a1": {
          "model_module": "@jupyter-widgets/controls",
          "model_module_version": "1.5.0",
          "model_name": "ToggleButtonModel",
          "state": {
            "_dom_classes": [],
            "_model_module": "@jupyter-widgets/controls",
            "_model_module_version": "1.5.0",
            "_model_name": "ToggleButtonModel",
            "_view_count": null,
            "_view_module": "@jupyter-widgets/controls",
            "_view_module_version": "1.5.0",
            "_view_name": "ToggleButtonView",
            "button_style": "",
            "description": "",
            "description_tooltip": null,
            "disabled": false,
            "icon": "wrench",
            "layout": "IPY_MODEL_b1871703abe84ae1a114346dcc6b9a4f",
            "style": "IPY_MODEL_fd767d3833244542b613b6304e83cdb8",
            "tooltip": "Toolbar",
            "value": false
          }
        },
        "b13965464b484ecc8990ae827d97c5c0": {
          "model_module": "jupyter-leaflet",
          "model_module_version": "^0.14.0",
          "model_name": "LeafletTileLayerModel",
          "state": {
            "_model_module": "jupyter-leaflet",
            "_model_module_version": "^0.14.0",
            "_model_name": "LeafletTileLayerModel",
            "_view_count": null,
            "_view_module": "jupyter-leaflet",
            "_view_module_version": "^0.14.0",
            "_view_name": "LeafletTileLayerView",
            "attribution": "Map data (c) <a href=\"https://openstreetmap.org\">OpenStreetMap</a> contributors",
            "base": true,
            "bottom": true,
            "detect_retina": false,
            "loading": false,
            "max_native_zoom": 18,
            "max_zoom": 19,
            "min_native_zoom": 0,
            "min_zoom": 1,
            "name": "",
            "no_wrap": false,
            "opacity": 1,
            "options": [
              "attribution",
              "detect_retina",
              "max_native_zoom",
              "max_zoom",
              "min_native_zoom",
              "min_zoom",
              "no_wrap",
              "tile_size",
              "tms"
            ],
            "popup": null,
            "popup_max_height": null,
            "popup_max_width": 300,
            "popup_min_width": 50,
            "show_loading": false,
            "tile_size": 256,
            "tms": false,
            "url": "https://{s}.tile.openstreetmap.org/{z}/{x}/{y}.png",
            "visible": true
          }
        },
        "b1871703abe84ae1a114346dcc6b9a4f": {
          "model_module": "@jupyter-widgets/base",
          "model_module_version": "1.2.0",
          "model_name": "LayoutModel",
          "state": {
            "_model_module": "@jupyter-widgets/base",
            "_model_module_version": "1.2.0",
            "_model_name": "LayoutModel",
            "_view_count": null,
            "_view_module": "@jupyter-widgets/base",
            "_view_module_version": "1.2.0",
            "_view_name": "LayoutView",
            "align_content": null,
            "align_items": null,
            "align_self": null,
            "border": null,
            "bottom": null,
            "display": null,
            "flex": null,
            "flex_flow": null,
            "grid_area": null,
            "grid_auto_columns": null,
            "grid_auto_flow": null,
            "grid_auto_rows": null,
            "grid_column": null,
            "grid_gap": null,
            "grid_row": null,
            "grid_template_areas": null,
            "grid_template_columns": null,
            "grid_template_rows": null,
            "height": "28px",
            "justify_content": null,
            "justify_items": null,
            "left": null,
            "margin": null,
            "max_height": null,
            "max_width": null,
            "min_height": null,
            "min_width": null,
            "object_fit": null,
            "object_position": null,
            "order": null,
            "overflow": null,
            "overflow_x": null,
            "overflow_y": null,
            "padding": "0px 0px 0px 4px",
            "right": null,
            "top": null,
            "visibility": null,
            "width": "28px"
          }
        },
        "b71b3e972fd8420fa40ae2df417e671a": {
          "model_module": "jupyter-leaflet",
          "model_module_version": "^0.14.0",
          "model_name": "LeafletMapModel",
          "state": {
            "_dom_classes": [],
            "_dragging": false,
            "_model_module": "jupyter-leaflet",
            "_model_module_version": "^0.14.0",
            "_model_name": "LeafletMapModel",
            "_view_count": null,
            "_view_module": "jupyter-leaflet",
            "_view_module_version": "^0.14.0",
            "_view_name": "LeafletMapView",
            "bottom": 7685,
            "bounce_at_zoom_limits": true,
            "box_zoom": true,
            "center": [
              17.45547257997284,
              81.43066406250001
            ],
            "close_popup_on_click": true,
            "controls": [
              "IPY_MODEL_f964e22885f14f4f8c7b951f9cb842aa",
              "IPY_MODEL_53fdfa56c144426eb55495dc415eaa52",
              "IPY_MODEL_519179f0435b4978b479b61cd3102618",
              "IPY_MODEL_f2d70834f3d34eb393ab0fd86244b889",
              "IPY_MODEL_d4369e52e65241f4adeabb7c1e9bcb97",
              "IPY_MODEL_90c2b6c5cf554ca8814a81e19738587a",
              "IPY_MODEL_f05c8f28406b466bb9a12a47b217b65c",
              "IPY_MODEL_6fefe4fe612849d1b046a58a60b2cf41",
              "IPY_MODEL_f7a466a7135448fd878c9f41860bac42"
            ],
            "crs": {
              "custom": false,
              "name": "EPSG3857"
            },
            "default_style": "IPY_MODEL_fed33dd49d964656b4c3b4b7562c0c4c",
            "double_click_zoom": true,
            "dragging": true,
            "dragging_style": "IPY_MODEL_ca9f7ce93d024690b25b0c7e13278599",
            "east": 96.92138671875001,
            "fullscreen": false,
            "inertia": true,
            "inertia_deceleration": 3000,
            "inertia_max_speed": 1500,
            "interpolation": "bilinear",
            "keyboard": true,
            "keyboard_pan_offset": 80,
            "keyboard_zoom_offset": 1,
            "layers": [
              "IPY_MODEL_b13965464b484ecc8990ae827d97c5c0",
              "IPY_MODEL_7de7e6cc010b45f5b90ac59d0aecbf6b",
              "IPY_MODEL_47c7ee7e43de43f2bdb25436e9d1e3a6",
              "IPY_MODEL_34b5b693600247688fe36e46fe791cc9",
              "IPY_MODEL_2867dc629a8146ad8a52ee97807dc813",
              "IPY_MODEL_8bd3e6981dfa4533830a6a5ed26d43a4"
            ],
            "layout": "IPY_MODEL_e799dc4984d74e0685290ea16b0065ed",
            "left": 11193,
            "max_zoom": 18,
            "min_zoom": 1,
            "modisdate": "yesterday",
            "north": 23.624394569716923,
            "options": [
              "bounce_at_zoom_limits",
              "box_zoom",
              "center",
              "close_popup_on_click",
              "double_click_zoom",
              "dragging",
              "fullscreen",
              "inertia",
              "inertia_deceleration",
              "inertia_max_speed",
              "interpolation",
              "keyboard",
              "keyboard_pan_offset",
              "keyboard_zoom_offset",
              "max_zoom",
              "min_zoom",
              "scroll_wheel_zoom",
              "tap",
              "tap_tolerance",
              "touch_zoom",
              "world_copy_jump",
              "zoom",
              "zoom_animation_threshold",
              "zoom_delta",
              "zoom_snap",
              "zoom_start"
            ],
            "right": 12603,
            "scroll_wheel_zoom": true,
            "south": 11.070602913977819,
            "style": "IPY_MODEL_fed33dd49d964656b4c3b4b7562c0c4c",
            "tap": true,
            "tap_tolerance": 15,
            "top": 7085,
            "touch_zoom": true,
            "west": 65.93994140625001,
            "window_url": "https://up5n8gazpmf-496ff2e9c6d22116-0-colab.googleusercontent.com/outputframe.html?vrz=colab-20211118-060053-RC00_410742426",
            "world_copy_jump": false,
            "zoom": 6,
            "zoom_animation_threshold": 4,
            "zoom_delta": 1,
            "zoom_snap": 1,
            "zoom_start": 12
          }
        },
        "b80f84afabc24b66b9e074d960646ad1": {
          "model_module": "@jupyter-widgets/controls",
          "model_module_version": "1.5.0",
          "model_name": "DescriptionStyleModel",
          "state": {
            "_model_module": "@jupyter-widgets/controls",
            "_model_module_version": "1.5.0",
            "_model_name": "DescriptionStyleModel",
            "_view_count": null,
            "_view_module": "@jupyter-widgets/base",
            "_view_module_version": "1.2.0",
            "_view_name": "StyleView",
            "description_width": ""
          }
        },
        "ca9f7ce93d024690b25b0c7e13278599": {
          "model_module": "jupyter-leaflet",
          "model_module_version": "^0.14.0",
          "model_name": "LeafletMapStyleModel",
          "state": {
            "_model_module": "jupyter-leaflet",
            "_model_module_version": "^0.14.0",
            "_model_name": "LeafletMapStyleModel",
            "_view_count": null,
            "_view_module": "@jupyter-widgets/base",
            "_view_module_version": "1.2.0",
            "_view_name": "StyleView",
            "cursor": "move"
          }
        },
        "cc5f71bf323b4601b25eba405d1185d5": {
          "model_module": "@jupyter-widgets/controls",
          "model_module_version": "1.5.0",
          "model_name": "HBoxModel",
          "state": {
            "_dom_classes": [],
            "_model_module": "@jupyter-widgets/controls",
            "_model_module_version": "1.5.0",
            "_model_name": "HBoxModel",
            "_view_count": null,
            "_view_module": "@jupyter-widgets/controls",
            "_view_module_version": "1.5.0",
            "_view_name": "HBoxView",
            "box_style": "",
            "children": [
              "IPY_MODEL_151aed478f1b4ce4bd2f81aba371e495"
            ],
            "layout": "IPY_MODEL_4ef7d173b8cf459084de3f10d7cb5e86"
          }
        },
        "cd1278a681584c0eb8e76580173acee4": {
          "model_module": "@jupyter-widgets/output",
          "model_module_version": "1.0.0",
          "model_name": "OutputModel",
          "state": {
            "_dom_classes": [],
            "_model_module": "@jupyter-widgets/output",
            "_model_module_version": "1.0.0",
            "_model_name": "OutputModel",
            "_view_count": null,
            "_view_module": "@jupyter-widgets/output",
            "_view_module_version": "1.0.0",
            "_view_name": "OutputView",
            "layout": "IPY_MODEL_1b4d54c5c6064b0388f21d396e9f663e",
            "msg_id": "",
            "outputs": [
              {
                "data": {
                  "application/vnd.jupyter.widget-view+json": {
                    "model_id": "2f0bc79b333647f3ae4ec4914d34f5dd",
                    "version_major": 2,
                    "version_minor": 0
                  },
                  "text/plain": "HTML(value=\"<html>\\n<body>\\n  <div class='my-legend'>\\n  <div class='legend-title'>Land Cover Legend</div>\\n  …"
                },
                "metadata": {
                  "application/vnd.jupyter.widget-view+json": {
                    "colab": {
                      "custom_widget_manager": {
                        "url": "https://ssl.gstatic.com/colaboratory-static/widgets/colab-cdn-widget-manager/e680a8b83b2ea152/manager.min.js"
                      }
                    }
                  }
                },
                "output_type": "display_data"
              }
            ]
          }
        },
        "d2afdd67e42f43319bfb4cf12424694a": {
          "model_module": "@jupyter-widgets/base",
          "model_module_version": "1.2.0",
          "model_name": "LayoutModel",
          "state": {
            "_model_module": "@jupyter-widgets/base",
            "_model_module_version": "1.2.0",
            "_model_name": "LayoutModel",
            "_view_count": null,
            "_view_module": "@jupyter-widgets/base",
            "_view_module_version": "1.2.0",
            "_view_name": "LayoutView",
            "align_content": null,
            "align_items": null,
            "align_self": null,
            "border": null,
            "bottom": null,
            "display": null,
            "flex": null,
            "flex_flow": null,
            "grid_area": null,
            "grid_auto_columns": null,
            "grid_auto_flow": null,
            "grid_auto_rows": null,
            "grid_column": null,
            "grid_gap": null,
            "grid_row": null,
            "grid_template_areas": null,
            "grid_template_columns": null,
            "grid_template_rows": null,
            "height": null,
            "justify_content": null,
            "justify_items": null,
            "left": null,
            "margin": null,
            "max_height": null,
            "max_width": null,
            "min_height": null,
            "min_width": null,
            "object_fit": null,
            "object_position": null,
            "order": null,
            "overflow": null,
            "overflow_x": null,
            "overflow_y": null,
            "padding": null,
            "right": null,
            "top": null,
            "visibility": null,
            "width": null
          }
        },
        "d4369e52e65241f4adeabb7c1e9bcb97": {
          "model_module": "jupyter-leaflet",
          "model_module_version": "^0.14.0",
          "model_name": "LeafletMeasureControlModel",
          "state": {
            "_custom_units": {},
            "_model_module": "jupyter-leaflet",
            "_model_module_version": "^0.14.0",
            "_model_name": "LeafletMeasureControlModel",
            "_view_count": null,
            "_view_module": "jupyter-leaflet",
            "_view_module_version": "^0.14.0",
            "_view_name": "LeafletMeasureControlView",
            "active_color": "orange",
            "capture_z_index": 10000,
            "completed_color": "#C8F2BE",
            "options": [
              "active_color",
              "capture_z_index",
              "completed_color",
              "popup_options",
              "position",
              "primary_area_unit",
              "primary_length_unit",
              "secondary_area_unit",
              "secondary_length_unit"
            ],
            "popup_options": {
              "autoPanPadding": [
                10,
                10
              ],
              "className": "leaflet-measure-resultpopup"
            },
            "position": "bottomleft",
            "primary_area_unit": "acres",
            "primary_length_unit": "kilometers",
            "secondary_area_unit": null,
            "secondary_length_unit": null
          }
        },
        "e799dc4984d74e0685290ea16b0065ed": {
          "model_module": "@jupyter-widgets/base",
          "model_module_version": "1.2.0",
          "model_name": "LayoutModel",
          "state": {
            "_model_module": "@jupyter-widgets/base",
            "_model_module_version": "1.2.0",
            "_model_name": "LayoutModel",
            "_view_count": null,
            "_view_module": "@jupyter-widgets/base",
            "_view_module_version": "1.2.0",
            "_view_name": "LayoutView",
            "align_content": null,
            "align_items": null,
            "align_self": null,
            "border": null,
            "bottom": null,
            "display": null,
            "flex": null,
            "flex_flow": null,
            "grid_area": null,
            "grid_auto_columns": null,
            "grid_auto_flow": null,
            "grid_auto_rows": null,
            "grid_column": null,
            "grid_gap": null,
            "grid_row": null,
            "grid_template_areas": null,
            "grid_template_columns": null,
            "grid_template_rows": null,
            "height": "600px",
            "justify_content": null,
            "justify_items": null,
            "left": null,
            "margin": null,
            "max_height": null,
            "max_width": null,
            "min_height": null,
            "min_width": null,
            "object_fit": null,
            "object_position": null,
            "order": null,
            "overflow": null,
            "overflow_x": null,
            "overflow_y": null,
            "padding": null,
            "right": null,
            "top": null,
            "visibility": null,
            "width": null
          }
        },
        "f05c8f28406b466bb9a12a47b217b65c": {
          "model_module": "jupyter-leaflet",
          "model_module_version": "^0.14.0",
          "model_name": "LeafletDrawControlModel",
          "state": {
            "_model_module": "jupyter-leaflet",
            "_model_module_version": "^0.14.0",
            "_model_name": "LeafletDrawControlModel",
            "_view_count": null,
            "_view_module": "jupyter-leaflet",
            "_view_module_version": "^0.14.0",
            "_view_name": "LeafletDrawControlView",
            "circle": {
              "shapeOptions": {
                "color": "#3388ff"
              }
            },
            "circlemarker": {},
            "data": [],
            "edit": true,
            "marker": {
              "shapeOptions": {
                "color": "#3388ff"
              }
            },
            "options": [
              "position"
            ],
            "polygon": {
              "shapeOptions": {}
            },
            "polyline": {
              "shapeOptions": {}
            },
            "position": "topleft",
            "rectangle": {
              "shapeOptions": {
                "color": "#3388ff"
              }
            },
            "remove": true
          }
        },
        "f2d70834f3d34eb393ab0fd86244b889": {
          "model_module": "jupyter-leaflet",
          "model_module_version": "^0.14.0",
          "model_name": "LeafletFullScreenControlModel",
          "state": {
            "_model_module": "jupyter-leaflet",
            "_model_module_version": "^0.14.0",
            "_model_name": "LeafletFullScreenControlModel",
            "_view_count": null,
            "_view_module": "jupyter-leaflet",
            "_view_module_version": "^0.14.0",
            "_view_name": "LeafletFullScreenControlView",
            "options": [
              "position"
            ],
            "position": "topleft"
          }
        },
        "f7a466a7135448fd878c9f41860bac42": {
          "model_module": "jupyter-leaflet",
          "model_module_version": "^0.14.0",
          "model_name": "LeafletWidgetControlModel",
          "state": {
            "_model_module": "jupyter-leaflet",
            "_model_module_version": "^0.14.0",
            "_model_name": "LeafletWidgetControlModel",
            "_view_count": null,
            "_view_module": "jupyter-leaflet",
            "_view_module_version": "^0.14.0",
            "_view_name": "LeafletWidgetControlView",
            "max_height": null,
            "max_width": null,
            "min_height": null,
            "min_width": null,
            "options": [
              "position",
              "transparent_bg"
            ],
            "position": "bottomright",
            "transparent_bg": false,
            "widget": "IPY_MODEL_cd1278a681584c0eb8e76580173acee4"
          }
        },
        "f8a8e177c11d498595456c273fe2f9d5": {
          "model_module": "@jupyter-widgets/base",
          "model_module_version": "1.2.0",
          "model_name": "LayoutModel",
          "state": {
            "_model_module": "@jupyter-widgets/base",
            "_model_module_version": "1.2.0",
            "_model_name": "LayoutModel",
            "_view_count": null,
            "_view_module": "@jupyter-widgets/base",
            "_view_module_version": "1.2.0",
            "_view_name": "LayoutView",
            "align_content": null,
            "align_items": null,
            "align_self": null,
            "border": null,
            "bottom": null,
            "display": null,
            "flex": null,
            "flex_flow": null,
            "grid_area": null,
            "grid_auto_columns": null,
            "grid_auto_flow": null,
            "grid_auto_rows": null,
            "grid_column": null,
            "grid_gap": null,
            "grid_row": null,
            "grid_template_areas": null,
            "grid_template_columns": null,
            "grid_template_rows": null,
            "height": null,
            "justify_content": null,
            "justify_items": null,
            "left": null,
            "margin": null,
            "max_height": null,
            "max_width": null,
            "min_height": null,
            "min_width": null,
            "object_fit": null,
            "object_position": null,
            "order": null,
            "overflow": null,
            "overflow_x": null,
            "overflow_y": null,
            "padding": null,
            "right": null,
            "top": null,
            "visibility": null,
            "width": null
          }
        },
        "f964e22885f14f4f8c7b951f9cb842aa": {
          "model_module": "jupyter-leaflet",
          "model_module_version": "^0.14.0",
          "model_name": "LeafletWidgetControlModel",
          "state": {
            "_model_module": "jupyter-leaflet",
            "_model_module_version": "^0.14.0",
            "_model_name": "LeafletWidgetControlModel",
            "_view_count": null,
            "_view_module": "jupyter-leaflet",
            "_view_module_version": "^0.14.0",
            "_view_name": "LeafletWidgetControlView",
            "max_height": null,
            "max_width": null,
            "min_height": null,
            "min_width": null,
            "options": [
              "position",
              "transparent_bg"
            ],
            "position": "topleft",
            "transparent_bg": false,
            "widget": "IPY_MODEL_cc5f71bf323b4601b25eba405d1185d5"
          }
        },
        "fd767d3833244542b613b6304e83cdb8": {
          "model_module": "@jupyter-widgets/controls",
          "model_module_version": "1.5.0",
          "model_name": "DescriptionStyleModel",
          "state": {
            "_model_module": "@jupyter-widgets/controls",
            "_model_module_version": "1.5.0",
            "_model_name": "DescriptionStyleModel",
            "_view_count": null,
            "_view_module": "@jupyter-widgets/base",
            "_view_module_version": "1.2.0",
            "_view_name": "StyleView",
            "description_width": ""
          }
        },
        "fed33dd49d964656b4c3b4b7562c0c4c": {
          "model_module": "jupyter-leaflet",
          "model_module_version": "^0.14.0",
          "model_name": "LeafletMapStyleModel",
          "state": {
            "_model_module": "jupyter-leaflet",
            "_model_module_version": "^0.14.0",
            "_model_name": "LeafletMapStyleModel",
            "_view_count": null,
            "_view_module": "@jupyter-widgets/base",
            "_view_module_version": "1.2.0",
            "_view_name": "StyleView",
            "cursor": "grab"
          }
        }
      }
    }
  },
  "nbformat": 4,
  "nbformat_minor": 0
}
